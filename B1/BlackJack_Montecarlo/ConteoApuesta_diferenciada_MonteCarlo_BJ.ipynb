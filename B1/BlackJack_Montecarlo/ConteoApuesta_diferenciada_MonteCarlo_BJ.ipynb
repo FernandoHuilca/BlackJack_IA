{
  "cells": [
    {
      "cell_type": "markdown",
      "metadata": {
        "id": "JPbCiAPwN8R3"
      },
      "source": [
        "# MonteCarlo"
      ]
    },
    {
      "cell_type": "markdown",
      "metadata": {
        "id": "-gPgmVXjOFGO"
      },
      "source": [
        "Importacion"
      ]
    },
    {
      "cell_type": "code",
      "execution_count": null,
      "metadata": {
        "id": "h6KkTv4GODuL"
      },
      "outputs": [],
      "source": [
        "import random\n",
        "import time\n",
        "import matplotlib.pyplot as plt\n",
        "import numpy as np\n",
        "import seaborn as sns\n",
        "import itertools\n",
        "import pandas as pd"
      ]
    },
    {
      "cell_type": "markdown",
      "metadata": {
        "id": "Xj2buw8bOA1H"
      },
      "source": [
        "Aleatorios"
      ]
    },
    {
      "cell_type": "code",
      "execution_count": null,
      "metadata": {
        "colab": {
          "base_uri": "https://localhost:8080/"
        },
        "id": "1t2G8myVQiqR",
        "outputId": "9c534396-e010-4b94-ed71-402f8e2c0e73"
      },
      "outputs": [
        {
          "output_type": "execute_result",
          "data": {
            "text/plain": [
              "0.9973717654617937"
            ]
          },
          "metadata": {},
          "execution_count": 2
        }
      ],
      "source": [
        "random.seed(int(time.time())) # semilla para replicar la aleatoriedad\n",
        "random.random() # primer llamado a random"
      ]
    },
    {
      "cell_type": "markdown",
      "metadata": {
        "id": "7iObEiAmXKoD"
      },
      "source": [
        "Función para obtener el valor numérico de una carta"
      ]
    },
    {
      "cell_type": "code",
      "execution_count": null,
      "metadata": {
        "id": "SO_RW1NZUmfP"
      },
      "outputs": [],
      "source": [
        "def valor_carta(carta):\n",
        "    if carta in ['J', 'Q', 'K']:\n",
        "        return 10\n",
        "    elif carta == 'A':\n",
        "        return 11\n",
        "    else:\n",
        "        return int(carta)"
      ]
    },
    {
      "cell_type": "markdown",
      "metadata": {
        "id": "FaC2D8RlVHya"
      },
      "source": [
        "Creación de las barajas"
      ]
    },
    {
      "cell_type": "code",
      "execution_count": null,
      "metadata": {
        "id": "aQn7mvSyUv4G"
      },
      "outputs": [],
      "source": [
        "def nueva_baraja(n_barajas):\n",
        "    baraja_unica = ['A', '2', '3', '4', '5', '6', '7', '8', '9', '10', 'J', 'Q', 'K'] * 4\n",
        "    baraja_total = baraja_unica * n_barajas\n",
        "    random.shuffle(baraja_total)\n",
        "    return baraja_total"
      ]
    },
    {
      "cell_type": "markdown",
      "metadata": {
        "id": "29zMjhKIVnry"
      },
      "source": [
        "Se determina el valor de la mano dependiendo del valor preferible para las A´s"
      ]
    },
    {
      "cell_type": "code",
      "execution_count": null,
      "metadata": {
        "id": "odNdxhDHUzTk"
      },
      "outputs": [],
      "source": [
        "\n",
        "def total(mano):\n",
        "    total = sum(valor_carta(c) for c in mano)\n",
        "    ases = mano.count('A')\n",
        "    while total > 21 and ases:\n",
        "        total -= 10\n",
        "        ases -= 1\n",
        "    return total\n"
      ]
    },
    {
      "cell_type": "markdown",
      "metadata": {
        "id": "HN5nk2N_b9qK"
      },
      "source": [
        "# **Simulación** de n juegos con las cartas dadas"
      ]
    },
    {
      "cell_type": "code",
      "execution_count": null,
      "metadata": {
        "id": "3RpisbDwU3mB"
      },
      "outputs": [],
      "source": [
        "\n",
        "\n",
        "def simular_jugada(cartas_jugador, carta_crupier_visible, accion, barajas, n_sim=1000):\n",
        "     ganancias = 0\n",
        "     baraja = barajas.copy()\n",
        "     for _ in range(n_sim):\n",
        "        baraja = barajas.copy()\n",
        "        random.shuffle(baraja)\n",
        "\n",
        "        # Remover cartas ya en juego\n",
        "        for c in cartas_jugador + [carta_crupier_visible]:\n",
        "            if c in baraja:\n",
        "                baraja.remove(c)\n",
        "\n",
        "        jugador = cartas_jugador.copy()\n",
        "        crupier = [carta_crupier_visible, baraja.pop()]\n",
        "\n",
        "        # Acción del jugador\n",
        "        if accion == \"pedir\":\n",
        "            jugador.append(baraja.pop())\n",
        "        elif accion == \"doblar\":\n",
        "            jugador.append(baraja.pop())\n",
        "\n",
        "        jugador_total = total(jugador)\n",
        "        if jugador_total > 21:\n",
        "            ganancias -= 2 if accion == \"doblar\" else 1\n",
        "            continue\n",
        "\n",
        "        # Juega el crupier\n",
        "        while total(crupier) < 17:\n",
        "            if len(baraja) < 1:\n",
        "                continue  # No se puede pedir más\n",
        "            crupier.append(baraja.pop())\n",
        "        crupier_total = total(crupier)\n",
        "\n",
        "        if jugador_total > crupier_total or crupier_total > 21:\n",
        "            ganancias += 2 if accion == \"doblar\" else 1\n",
        "           # ganancias += 1\n",
        "        elif jugador_total == crupier_total:\n",
        "            ganancias += 0\n",
        "        else:\n",
        "           ##ganancias -= 1\n",
        "            ganancias -= 2 if accion == \"doblar\" else 1\n",
        "\n",
        "     return ganancias / n_sim"
      ]
    },
    {
      "cell_type": "code",
      "source": [
        "def obtener_mejor_opcion(cartas_jugador, carta_crupier, baraja):\n",
        "    r_plantarse = simular_jugada(cartas_jugador, carta_crupier, \"plantarse\", baraja)\n",
        "    r_pedir = simular_jugada(cartas_jugador, carta_crupier, \"pedir\",baraja)\n",
        "    r_doblar = simular_jugada(cartas_jugador, carta_crupier, \"doblar\", baraja)\n",
        "\n",
        "    mejor_accion = max(\n",
        "        [(\"S\", r_plantarse), (\"H\", r_pedir), (\"D\", r_doblar)],\n",
        "        key=lambda x: x[1]\n",
        "    )\n",
        "    return mejor_accion"
      ],
      "metadata": {
        "id": "SafYv1UzaiqK"
      },
      "execution_count": null,
      "outputs": []
    },
    {
      "cell_type": "markdown",
      "metadata": {
        "id": "m-dt3qScZIOD"
      },
      "source": [
        "Ejecución de prueba"
      ]
    },
    {
      "cell_type": "code",
      "execution_count": null,
      "metadata": {
        "colab": {
          "base_uri": "https://localhost:8080/"
        },
        "id": "GdEh9DyFahu-",
        "outputId": "7113b513-10b0-4edd-9736-b454a5ee1ee1"
      },
      "outputs": [
        {
          "output_type": "stream",
          "name": "stdout",
          "text": [
            "0.116\n"
          ]
        }
      ],
      "source": [
        "r= simular_jugada([10,1], 1, \"pedir\", nueva_baraja(5))\n",
        "print(r)"
      ]
    },
    {
      "cell_type": "code",
      "execution_count": null,
      "metadata": {
        "id": "mI761Yt-WhZ5"
      },
      "outputs": [],
      "source": [
        "def generar_tabla_decision_con_probabilidades(baraja):\n",
        "    cartas_posibles = ['2', '3', '4', '5', '6', '7', '8', '9', '10', 'J', 'Q', 'K', 'A']\n",
        "    combinaciones_jugador = list(itertools.combinations_with_replacement(cartas_posibles, 2))\n",
        "    resultados = []\n",
        "\n",
        "    for mano in combinaciones_jugador:\n",
        "        fila = []\n",
        "        for carta in cartas_posibles:\n",
        "            r_plantarse = simular_jugada(list(mano), carta, \"plantarse\", baraja)\n",
        "            r_pedir = simular_jugada(list(mano), carta, \"pedir\", baraja)\n",
        "            r_doblar = simular_jugada(list(mano), carta, \"doblar\", baraja)\n",
        "\n",
        "            mejor_accion = max([(\"S\", r_plantarse), (\"H\", r_pedir), (\"D\", r_doblar)], key=lambda x: x[1])\n",
        "            texto_celda = f\"{mejor_accion[0]}:{mejor_accion[1]:.2f}\"\n",
        "            fila.append(texto_celda)\n",
        "        resultados.append(fila)\n",
        "\n",
        "    combinaciones_labels = [f\"{a}-{b}\" for a, b in combinaciones_jugador]\n",
        "    graficar_heatmap_resultados(pd.DataFrame(resultados, index=combinaciones_labels, columns=cartas_posibles))\n",
        "    return pd.DataFrame(resultados, index=combinaciones_labels, columns=cartas_posibles)"
      ]
    },
    {
      "cell_type": "code",
      "execution_count": null,
      "metadata": {
        "id": "ugFvbfg_hYn3",
        "colab": {
          "base_uri": "https://localhost:8080/",
          "height": 141
        },
        "outputId": "bad2d6e1-6e59-497b-a59f-a72f198ae3b8"
      },
      "outputs": [
        {
          "output_type": "error",
          "ename": "TypeError",
          "evalue": "generar_tabla_decision_con_probabilidades() got an unexpected keyword argument 'n_barajas'",
          "traceback": [
            "\u001b[0;31m---------------------------------------------------------------------------\u001b[0m",
            "\u001b[0;31mTypeError\u001b[0m                                 Traceback (most recent call last)",
            "\u001b[0;32m/tmp/ipython-input-10-1929410938.py\u001b[0m in \u001b[0;36m<cell line: 0>\u001b[0;34m()\u001b[0m\n\u001b[0;32m----> 1\u001b[0;31m \u001b[0mdf_resultados\u001b[0m \u001b[0;34m=\u001b[0m \u001b[0mgenerar_tabla_decision_con_probabilidades\u001b[0m\u001b[0;34m(\u001b[0m\u001b[0mn_barajas\u001b[0m\u001b[0;34m=\u001b[0m\u001b[0;36m6\u001b[0m\u001b[0;34m)\u001b[0m\u001b[0;34m\u001b[0m\u001b[0;34m\u001b[0m\u001b[0m\n\u001b[0m",
            "\u001b[0;31mTypeError\u001b[0m: generar_tabla_decision_con_probabilidades() got an unexpected keyword argument 'n_barajas'"
          ]
        }
      ],
      "source": [
        "df_resultados = generar_tabla_decision_con_probabilidades(n_barajas=6)"
      ]
    },
    {
      "cell_type": "code",
      "execution_count": null,
      "metadata": {
        "id": "Iu0oO0qBWmqb"
      },
      "outputs": [],
      "source": [
        "def graficar_heatmap_resultados(df_resultados):\n",
        "    # Extraer valores numéricos para el heatmap\n",
        "    mapa_valores = df_resultados.applymap(lambda x: float(x.split(\":\")[1]))\n",
        "\n",
        "    sns.set_style(\"whitegrid\")\n",
        "    plt.figure(figsize=(18, 26))\n",
        "    cmap = sns.color_palette(\"YlGnBu\", as_cmap=True)\n",
        "\n",
        "    ax = sns.heatmap(\n",
        "        mapa_valores,\n",
        "        annot=df_resultados,\n",
        "        fmt='',\n",
        "        cmap=cmap,\n",
        "        linewidths=.5,\n",
        "        linecolor='gray',\n",
        "        vmin=0,\n",
        "        vmax=1,\n",
        "        cbar_kws={'label': 'Probabilidad de Ganar'}\n",
        "    )\n",
        "\n",
        "    ax.set_xlabel(\"Carta del Crupier\")\n",
        "    ax.set_ylabel(\"Cartas del Jugador\")\n",
        "    ax.set_title(\"Decisión óptima con probabilidad de ganancia\\n(S=Plantarse, H=Pedir, D=Doblar)\")\n",
        "    plt.tight_layout()\n",
        "    plt.show()\n"
      ]
    },
    {
      "cell_type": "code",
      "execution_count": null,
      "metadata": {
        "colab": {
          "base_uri": "https://localhost:8080/",
          "height": 141
        },
        "id": "HqN0Gt8nlfg6",
        "outputId": "32578f16-d2ac-46c5-d9b9-eb94b3a2b881"
      },
      "outputs": [
        {
          "output_type": "error",
          "ename": "NameError",
          "evalue": "name 'df_resultados' is not defined",
          "traceback": [
            "\u001b[0;31m---------------------------------------------------------------------------\u001b[0m",
            "\u001b[0;31mNameError\u001b[0m                                 Traceback (most recent call last)",
            "\u001b[0;32m/tmp/ipython-input-12-316339201.py\u001b[0m in \u001b[0;36m<cell line: 0>\u001b[0;34m()\u001b[0m\n\u001b[0;32m----> 1\u001b[0;31m \u001b[0mdf_resultados\u001b[0m\u001b[0;34m\u001b[0m\u001b[0;34m\u001b[0m\u001b[0m\n\u001b[0m",
            "\u001b[0;31mNameError\u001b[0m: name 'df_resultados' is not defined"
          ]
        }
      ],
      "source": [
        "df_resultados"
      ]
    },
    {
      "cell_type": "code",
      "execution_count": null,
      "metadata": {
        "id": "id1yyQ2zU3Ng"
      },
      "outputs": [],
      "source": [
        "def capturar_y_jugar():\n",
        "    import random\n",
        "\n",
        "    print(\"=== Simulador de Partidas de Blackjack ===\")\n",
        "\n",
        "    while True:\n",
        "        baraja = nueva_baraja(8)\n",
        "        mano_jugador = []\n",
        "\n",
        "        # Ingreso de cartas del jugador\n",
        "        print(\"\\nIngresa tus dos cartas iniciales:\")\n",
        "        for i in range(2):\n",
        "            carta = input(f\"  Carta {i+1}: \").strip().upper()\n",
        "            mano_jugador.append(carta)\n",
        "\n",
        "        # Carta del crupier\n",
        "        carta_crupier = input(\"Ingresa la carta visible del crupier: \").strip().upper()\n",
        "\n",
        "        while True:\n",
        "            # Mostrar mano actual\n",
        "            print(f\"\\nTu mano: {mano_jugador}\")\n",
        "            print(f\"Carta del crupier: {carta_crupier}\")\n",
        "\n",
        "            # Evaluar la mejor opción actual\n",
        "            try:\n",
        "                opcion = obtener_mejor_opcion(mano_jugador, carta_crupier, baraja)\n",
        "                print(f\"Mejor opción según la estrategia: {opcion}\")\n",
        "            except Exception as e:\n",
        "                print(f\"Error al evaluar: {e}\")\n",
        "                break\n",
        "\n",
        "            # Preguntar al jugador si desea otra carta\n",
        "            decision = input(\"¿Deseas pedir otra carta? (S para sí, cualquier otra tecla para plantarte): \").strip().upper()\n",
        "            if decision == \"S\":\n",
        "                nueva_carta = input(\"Ingresa la nueva carta: \").strip().upper()\n",
        "                mano_jugador.append(nueva_carta)\n",
        "            else:\n",
        "                break\n",
        "\n",
        "        # Preguntar si quiere jugar otra partida\n",
        "        otra = input(\"\\n¿Quieres jugar otra partida? (S para sí, cualquier otra tecla para salir): \").strip().upper()\n",
        "        if otra != \"S\":\n",
        "            print(\"Gracias por jugar.\")\n",
        "            break\n"
      ]
    },
    {
      "cell_type": "code",
      "execution_count": null,
      "metadata": {
        "colab": {
          "base_uri": "https://localhost:8080/",
          "height": 356
        },
        "id": "LX-DVr9EqLCI",
        "outputId": "c80727f1-b198-45b7-c720-6404b97088a6"
      },
      "outputs": [
        {
          "output_type": "stream",
          "name": "stdout",
          "text": [
            "=== Simulador de Partidas de Blackjack ===\n",
            "\n",
            "Ingresa tus dos cartas iniciales:\n"
          ]
        },
        {
          "output_type": "error",
          "ename": "KeyboardInterrupt",
          "evalue": "Interrupted by user",
          "traceback": [
            "\u001b[0;31m---------------------------------------------------------------------------\u001b[0m",
            "\u001b[0;31mKeyboardInterrupt\u001b[0m                         Traceback (most recent call last)",
            "\u001b[0;32m/tmp/ipython-input-14-640087614.py\u001b[0m in \u001b[0;36m<cell line: 0>\u001b[0;34m()\u001b[0m\n\u001b[1;32m      1\u001b[0m \u001b[0;31m# Ejecutar método\u001b[0m\u001b[0;34m\u001b[0m\u001b[0;34m\u001b[0m\u001b[0m\n\u001b[0;32m----> 2\u001b[0;31m \u001b[0mcapturar_y_jugar\u001b[0m\u001b[0;34m(\u001b[0m\u001b[0;34m)\u001b[0m\u001b[0;34m\u001b[0m\u001b[0;34m\u001b[0m\u001b[0m\n\u001b[0m",
            "\u001b[0;32m/tmp/ipython-input-13-3743784513.py\u001b[0m in \u001b[0;36mcapturar_y_jugar\u001b[0;34m()\u001b[0m\n\u001b[1;32m     11\u001b[0m         \u001b[0mprint\u001b[0m\u001b[0;34m(\u001b[0m\u001b[0;34m\"\\nIngresa tus dos cartas iniciales:\"\u001b[0m\u001b[0;34m)\u001b[0m\u001b[0;34m\u001b[0m\u001b[0;34m\u001b[0m\u001b[0m\n\u001b[1;32m     12\u001b[0m         \u001b[0;32mfor\u001b[0m \u001b[0mi\u001b[0m \u001b[0;32min\u001b[0m \u001b[0mrange\u001b[0m\u001b[0;34m(\u001b[0m\u001b[0;36m2\u001b[0m\u001b[0;34m)\u001b[0m\u001b[0;34m:\u001b[0m\u001b[0;34m\u001b[0m\u001b[0;34m\u001b[0m\u001b[0m\n\u001b[0;32m---> 13\u001b[0;31m             \u001b[0mcarta\u001b[0m \u001b[0;34m=\u001b[0m \u001b[0minput\u001b[0m\u001b[0;34m(\u001b[0m\u001b[0;34mf\"  Carta {i+1}: \"\u001b[0m\u001b[0;34m)\u001b[0m\u001b[0;34m.\u001b[0m\u001b[0mstrip\u001b[0m\u001b[0;34m(\u001b[0m\u001b[0;34m)\u001b[0m\u001b[0;34m.\u001b[0m\u001b[0mupper\u001b[0m\u001b[0;34m(\u001b[0m\u001b[0;34m)\u001b[0m\u001b[0;34m\u001b[0m\u001b[0;34m\u001b[0m\u001b[0m\n\u001b[0m\u001b[1;32m     14\u001b[0m             \u001b[0mmano_jugador\u001b[0m\u001b[0;34m.\u001b[0m\u001b[0mappend\u001b[0m\u001b[0;34m(\u001b[0m\u001b[0mcarta\u001b[0m\u001b[0;34m)\u001b[0m\u001b[0;34m\u001b[0m\u001b[0;34m\u001b[0m\u001b[0m\n\u001b[1;32m     15\u001b[0m \u001b[0;34m\u001b[0m\u001b[0m\n",
            "\u001b[0;32m/usr/local/lib/python3.11/dist-packages/ipykernel/kernelbase.py\u001b[0m in \u001b[0;36mraw_input\u001b[0;34m(self, prompt)\u001b[0m\n\u001b[1;32m   1175\u001b[0m                 \u001b[0;34m\"raw_input was called, but this frontend does not support input requests.\"\u001b[0m\u001b[0;34m\u001b[0m\u001b[0;34m\u001b[0m\u001b[0m\n\u001b[1;32m   1176\u001b[0m             )\n\u001b[0;32m-> 1177\u001b[0;31m         return self._input_request(\n\u001b[0m\u001b[1;32m   1178\u001b[0m             \u001b[0mstr\u001b[0m\u001b[0;34m(\u001b[0m\u001b[0mprompt\u001b[0m\u001b[0;34m)\u001b[0m\u001b[0;34m,\u001b[0m\u001b[0;34m\u001b[0m\u001b[0;34m\u001b[0m\u001b[0m\n\u001b[1;32m   1179\u001b[0m             \u001b[0mself\u001b[0m\u001b[0;34m.\u001b[0m\u001b[0m_parent_ident\u001b[0m\u001b[0;34m[\u001b[0m\u001b[0;34m\"shell\"\u001b[0m\u001b[0;34m]\u001b[0m\u001b[0;34m,\u001b[0m\u001b[0;34m\u001b[0m\u001b[0;34m\u001b[0m\u001b[0m\n",
            "\u001b[0;32m/usr/local/lib/python3.11/dist-packages/ipykernel/kernelbase.py\u001b[0m in \u001b[0;36m_input_request\u001b[0;34m(self, prompt, ident, parent, password)\u001b[0m\n\u001b[1;32m   1217\u001b[0m             \u001b[0;32mexcept\u001b[0m \u001b[0mKeyboardInterrupt\u001b[0m\u001b[0;34m:\u001b[0m\u001b[0;34m\u001b[0m\u001b[0;34m\u001b[0m\u001b[0m\n\u001b[1;32m   1218\u001b[0m                 \u001b[0;31m# re-raise KeyboardInterrupt, to truncate traceback\u001b[0m\u001b[0;34m\u001b[0m\u001b[0;34m\u001b[0m\u001b[0m\n\u001b[0;32m-> 1219\u001b[0;31m                 \u001b[0;32mraise\u001b[0m \u001b[0mKeyboardInterrupt\u001b[0m\u001b[0;34m(\u001b[0m\u001b[0;34m\"Interrupted by user\"\u001b[0m\u001b[0;34m)\u001b[0m \u001b[0;32mfrom\u001b[0m \u001b[0;32mNone\u001b[0m\u001b[0;34m\u001b[0m\u001b[0;34m\u001b[0m\u001b[0m\n\u001b[0m\u001b[1;32m   1220\u001b[0m             \u001b[0;32mexcept\u001b[0m \u001b[0mException\u001b[0m\u001b[0;34m:\u001b[0m\u001b[0;34m\u001b[0m\u001b[0;34m\u001b[0m\u001b[0m\n\u001b[1;32m   1221\u001b[0m                 \u001b[0mself\u001b[0m\u001b[0;34m.\u001b[0m\u001b[0mlog\u001b[0m\u001b[0;34m.\u001b[0m\u001b[0mwarning\u001b[0m\u001b[0;34m(\u001b[0m\u001b[0;34m\"Invalid Message:\"\u001b[0m\u001b[0;34m,\u001b[0m \u001b[0mexc_info\u001b[0m\u001b[0;34m=\u001b[0m\u001b[0;32mTrue\u001b[0m\u001b[0;34m)\u001b[0m\u001b[0;34m\u001b[0m\u001b[0;34m\u001b[0m\u001b[0m\n",
            "\u001b[0;31mKeyboardInterrupt\u001b[0m: Interrupted by user"
          ]
        }
      ],
      "source": [
        "# Ejecutar método\n",
        "capturar_y_jugar()"
      ]
    },
    {
      "cell_type": "code",
      "execution_count": null,
      "metadata": {
        "id": "aMZeBs8feC43"
      },
      "outputs": [],
      "source": [
        "def repartir_carta(baraja):\n",
        "    return baraja.pop()"
      ]
    },
    {
      "cell_type": "markdown",
      "metadata": {
        "id": "ZNrF5NlirMIG"
      },
      "source": [
        "# Prueba de juego simulacion"
      ]
    },
    {
      "cell_type": "code",
      "execution_count": null,
      "metadata": {
        "id": "gJbcKh7omx7Z"
      },
      "outputs": [],
      "source": [
        "# ---------- Simulación de un juego ----------\n",
        "\n",
        "def jugar_una_mano(apuesta, baraja):\n",
        "    jugador = [repartir_carta(baraja), repartir_carta(baraja)]\n",
        "    crupier = [repartir_carta(baraja), repartir_carta(baraja)]\n",
        "\n",
        "    # Turno del jugador\n",
        "    accion = obtener_mejor_opcion(jugador, crupier[0], baraja)\n",
        "\n",
        "    while accion == \"Hit\":\n",
        "        jugador.append(repartir_carta(baraja))\n",
        "        if total(jugador) > 21:\n",
        "            return -apuesta, accion  # Jugador pierde\n",
        "        accion = obtener_mejor_opcion(jugador, crupier[0], baraja)\n",
        "\n",
        "    # Turno del crupier\n",
        "    while total(crupier) < 17:\n",
        "        crupier.append(repartir_carta(baraja))\n",
        "\n",
        "    valor_jugador = total(jugador)\n",
        "    valor_crupier = total(crupier)\n",
        "\n",
        "    if accion == \"Double\":\n",
        "       apuesta *= 2\n",
        "\n",
        "    if valor_crupier > 21 or valor_jugador > valor_crupier:\n",
        "        return apuesta  # Jugador gana\n",
        "    elif valor_jugador < valor_crupier:\n",
        "        return -apuesta  # Jugador pierde\n",
        "    else:\n",
        "        return 0  # Empate\n"
      ]
    },
    {
      "cell_type": "code",
      "execution_count": null,
      "metadata": {
        "id": "FisR9oVZojyA"
      },
      "outputs": [],
      "source": [
        "# ---------- Simulación múltiple con gráfica ----------\n",
        "\n",
        "def simular_juegos(n_juegos, apuesta=10, dinero_inicial=100, num=40):\n",
        "    dinero = dinero_inicial\n",
        "    historial_dinero = [dinero]\n",
        "    baraja = nueva_baraja(8)\n",
        "    fois=1\n",
        "\n",
        "        # Contadores\n",
        "    ganados = perdidos = empates = 0\n",
        "\n",
        "    for i in range(n_juegos):\n",
        "\n",
        "        if len(baraja) < num and fois == 1:  # por ejemplo, si quedan menos de 15 cartas\n",
        "          fois=0;\n",
        "          print(\"Cards left: \")\n",
        "          print(len(baraja))\n",
        "         # generar_tabla_decision_con_probabilidades(baraja)\n",
        "\n",
        "\n",
        "        if len(baraja) < 15:  # por ejemplo, si quedan menos de 15 cartas\n",
        "          baraja = nueva_baraja(8)\n",
        "\n",
        "        resultado = jugar_una_mano(apuesta, baraja)\n",
        "        dinero += resultado\n",
        "        historial_dinero.append(dinero)\n",
        "\n",
        "        # Clasificación de resultados\n",
        "        if resultado > 0:\n",
        "            ganados += 1\n",
        "        elif resultado < 0:\n",
        "            perdidos += 1\n",
        "        else:\n",
        "            empates += 1\n",
        "\n",
        " # Mostrar resultados\n",
        "    print(f\"\\n--- Resultados después de {n_juegos} juegos ---\")\n",
        "    print(f\"Ganados: {ganados} ({ganados / n_juegos * 100:.2f}%)\")\n",
        "    print(f\"Perdidos: {perdidos} ({perdidos / n_juegos * 100:.2f}%)\")\n",
        "    print(f\"Empates: {empates} ({empates / n_juegos * 100:.2f}%)\")\n",
        "    print(f\"Dinero: {dinero}\")\n",
        "\n",
        "\n",
        "    # Gráfica\n",
        " #   plt.figure(figsize=(10,5))\n",
        "  #  plt.plot(range(n_juegos + 1), historial_dinero, linestyle='-')\n",
        "   # plt.title(f\"Evolución del Dinero en {n_juegos} Juegos de Blackjack\")\n",
        "#    plt.xlabel(\"Número de Juegos\")\n",
        " #   plt.ylabel(\"Dinero del Jugador\")\n",
        "  #  plt.grid(True)\n",
        "   # plt.show()\n",
        "\n"
      ]
    },
    {
      "cell_type": "code",
      "source": [],
      "metadata": {
        "id": "PDDh8SZCMGku"
      },
      "execution_count": null,
      "outputs": []
    },
    {
      "cell_type": "code",
      "execution_count": null,
      "metadata": {
        "colab": {
          "base_uri": "https://localhost:8080/"
        },
        "id": "Utps7_2ZsNPP",
        "outputId": "537694d2-d486-4d7f-bd38-ca25c5da7113"
      },
      "outputs": [
        {
          "output_type": "stream",
          "name": "stdout",
          "text": [
            "Cards left: \n",
            "39\n",
            "\n",
            "--- Resultados después de 1000 juegos ---\n",
            "Ganados: 382 (38.20%)\n",
            "Perdidos: 566 (56.60%)\n",
            "Empates: 52 (5.20%)\n",
            "Dinero: -840\n",
            "Cards left: \n",
            "27\n",
            "\n",
            "--- Resultados después de 1000 juegos ---\n",
            "Ganados: 388 (38.80%)\n",
            "Perdidos: 564 (56.40%)\n",
            "Empates: 48 (4.80%)\n",
            "Dinero: -760\n",
            "Cards left: \n",
            "17\n",
            "\n",
            "--- Resultados después de 1000 juegos ---\n",
            "Ganados: 373 (37.30%)\n",
            "Perdidos: 586 (58.60%)\n",
            "Empates: 41 (4.10%)\n",
            "Dinero: -1130\n",
            "Cards left: \n",
            "49\n",
            "\n",
            "--- Resultados después de 1000 juegos ---\n",
            "Ganados: 367 (36.70%)\n",
            "Perdidos: 571 (57.10%)\n",
            "Empates: 62 (6.20%)\n",
            "Dinero: -1040\n"
          ]
        }
      ],
      "source": [
        "# ---------- Ejecutar Simulación ----------\n",
        "simular_juegos(n_juegos=1000, apuesta=10, dinero_inicial=1000)\n",
        "# ---------- Ejecutar Simulación ----------\n",
        "simular_juegos(n_juegos=1000, apuesta=10, dinero_inicial=1000, num=30)\n",
        "# ---------- Ejecutar Simulación ----------\n",
        "simular_juegos(n_juegos=1000, apuesta=10, dinero_inicial=1000, num = 20)\n",
        "# ---------- Ejecutar Simulación ----------\n",
        "simular_juegos(n_juegos=1000, apuesta=10, dinero_inicial=1000, num = 52)\n"
      ]
    }
  ],
  "metadata": {
    "colab": {
      "provenance": [],
      "toc_visible": true
    },
    "kernelspec": {
      "display_name": "Python 3",
      "name": "python3"
    },
    "language_info": {
      "name": "python"
    }
  },
  "nbformat": 4,
  "nbformat_minor": 0
}